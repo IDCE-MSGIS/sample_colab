{
  "nbformat": 4,
  "nbformat_minor": 0,
  "metadata": {
    "colab": {
      "name": "Sample_Colab_Notebook.ipynb",
      "provenance": [],
      "authorship_tag": "ABX9TyMcT8+7EPIbQ3wor7xSReoK",
      "include_colab_link": true
    },
    "kernelspec": {
      "name": "python3",
      "display_name": "Python 3"
    }
  },
  "cells": [
    {
      "cell_type": "markdown",
      "metadata": {
        "id": "view-in-github",
        "colab_type": "text"
      },
      "source": [
        "<a href=\"https://colab.research.google.com/github/IDCE-MSGIS/sample_colab/blob/master/Sample_Colab_Notebook.ipynb\" target=\"_parent\"><img src=\"https://colab.research.google.com/assets/colab-badge.svg\" alt=\"Open In Colab\"/></a>"
      ]
    },
    {
      "cell_type": "markdown",
      "metadata": {
        "id": "ykEF7brMFoS_",
        "colab_type": "text"
      },
      "source": [
        "# This is my nifty sample notebook\n",
        "Notebooks are a great way to combine code, outputs, and other types of media. Read about why they are so cool in this [*Nature* Blog Post](https://www.nature.com/articles/d41586-018-07196-1). \n",
        "\n",
        "Run this fancy code below. "
      ]
    },
    {
      "cell_type": "code",
      "metadata": {
        "id": "E5rKjWs8Fk1k",
        "colab_type": "code",
        "colab": {}
      },
      "source": [
        "# This code prints out something very important. \n",
        "for i in range(10):\n",
        "  print(\"Github + Colab will make me unstoppable.\")"
      ],
      "execution_count": null,
      "outputs": []
    }
  ]
}